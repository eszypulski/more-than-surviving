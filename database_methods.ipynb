{
  "nbformat": 4,
  "nbformat_minor": 0,
  "metadata": {
    "colab": {
      "provenance": [],
      "collapsed_sections": [
        "Sv8EMKM8riW4"
      ],
      "include_colab_link": true
    },
    "kernelspec": {
      "name": "python3",
      "display_name": "Python 3"
    },
    "language_info": {
      "name": "python"
    }
  },
  "cells": [
    {
      "cell_type": "markdown",
      "metadata": {
        "id": "view-in-github",
        "colab_type": "text"
      },
      "source": [
        "<a href=\"https://colab.research.google.com/github/zeldaskywalker/more-than-surviving/blob/main/database_methods.ipynb\" target=\"_parent\"><img src=\"https://colab.research.google.com/assets/colab-badge.svg\" alt=\"Open In Colab\"/></a>"
      ]
    },
    {
      "cell_type": "markdown",
      "source": [
        "# PostgreSQL Result JSON Translation for TimelineJS"
      ],
      "metadata": {
        "id": "4Qaec-Kx2jwi"
      }
    },
    {
      "cell_type": "code",
      "source": [
        "import datetime"
      ],
      "metadata": {
        "id": "rnlveljeUE72"
      },
      "execution_count": null,
      "outputs": []
    },
    {
      "cell_type": "code",
      "source": [
        "mock_timeline_events_database_query_result = [\n",
        "    (1, # ID from events table                                              0\n",
        "     'title', # from events table                                           1\n",
        "     datetime.datetime(2023, 3, 15), # start_date from events table         2\n",
        "     'day', # start_date_accuracy from events table                         3\n",
        "     datetime.datetime(2023, 3, 15), # from events table                    4\n",
        "     'day', # end_date_accuracy from events table                           5\n",
        "     'mock location name', # location_name from events table                6\n",
        "     'mock short description', # shorts_description from events table       7\n",
        "     ['mock', 'issue', 'types'], # issue_types from events table            8\n",
        "     'mock_image_url.com', # url from images table                          9\n",
        "     'mock image caption', # caption from images table                      10\n",
        "     'mock image credit', # credit from images table                        11\n",
        "     'mock image alternative text', # alt_text from images table            12\n",
        "     'mock_thumbnail_link.com' # timeline_thumbnail_link from events table  13\n",
        "     )]"
      ],
      "metadata": {
        "id": "Fzqv8noF2jwj"
      },
      "execution_count": null,
      "outputs": []
    },
    {
      "cell_type": "code",
      "source": [
        "import json\n",
        "\n",
        "def translate_sql_data_to_timeline_json(query_result_list):\n",
        "  final_timeline_dict = {}\n",
        "  final_events_list = []\n",
        "  for row in query_result_list:\n",
        "    event_dict = {}\n",
        "\n",
        "    media_dict = {\n",
        "        \"url\": row[9],\n",
        "        \"caption\": row[10],\n",
        "        \"credit\": row[11],\n",
        "        \"alt\": row[12]\n",
        "    }\n",
        "\n",
        "    event_dict[\"media\"] = media_dict\n",
        "\n",
        "    start_date_accuracy = row[3]\n",
        "    end_date_accuracy = row[5]\n",
        "\n",
        "    start_date_year = row[2].strftime(\"%Y\")\n",
        "    end_date_year = row[4].strftime(\"%Y\")\n",
        "\n",
        "    # Determine correct start date format for JSON based on accuracy\n",
        "    if start_date_accuracy == 'day':\n",
        "      start_date_month = row[2].strftime(\"%m\")\n",
        "      start_date_day = row[2].strftime(\"%d\")\n",
        "      start_date_dict = {\n",
        "          \"year\": start_date_year,\n",
        "          \"month\": start_date_month,\n",
        "          \"day\": start_date_day,\n",
        "          }\n",
        "    elif start_date_accuracy == 'month':\n",
        "      start_date_month = row[2].strftime(\"%m\")\n",
        "      start_date_dict = {\n",
        "          \"year\": start_date_year,\n",
        "          \"month\": start_date_month,\n",
        "          }\n",
        "    else:\n",
        "      start_date_dict = {\n",
        "          \"year\": start_date_year,\n",
        "          }\n",
        "\n",
        "    event_dict[\"start_date\"] = start_date_dict\n",
        "\n",
        "    # Determine correct end date format for JSON based on accuracy\n",
        "    if end_date_accuracy == 'day':\n",
        "      end_date_month = row[4].strftime(\"%m\")\n",
        "      end_date_day = row[4].strftime(\"%d\")\n",
        "      end_date_dict = {\n",
        "          \"year\": end_date_year,\n",
        "          \"month\": end_date_month,\n",
        "          \"day\": end_date_day,\n",
        "          }\n",
        "    elif end_date_accuracy == 'month':\n",
        "      end_date_month = row[4].strftime(\"%m\")\n",
        "      end_date_dict = {\n",
        "          \"year\": end_date_year,\n",
        "          \"month\": end_date_month,\n",
        "          }\n",
        "    else:\n",
        "      end_date_dict = {\n",
        "          \"year\": end_date_year,\n",
        "          }\n",
        "\n",
        "    event_dict[\"end_date\"] = end_date_dict\n",
        "\n",
        "    text_dict = {\n",
        "        \"headline\": row[1],\n",
        "        \"text\": row[7],\n",
        "    }\n",
        "\n",
        "    event_dict[\"group\"] = 1\n",
        "\n",
        "    final_events_list.append(event_dict)\n",
        "\n",
        "  final_timeline_dict[\"events\"] = final_events_list\n",
        "  final_timeline_json_string = json.dumps(final_timeline_dict)\n",
        "  final_timeline_json = json.loads(final_timeline_json_string)\n",
        "  return final_timeline_json"
      ],
      "metadata": {
        "id": "Pwbidzwd2jwj"
      },
      "execution_count": null,
      "outputs": []
    },
    {
      "cell_type": "code",
      "source": [
        "translate_sql_data_to_timeline_json(mock_timeline_events_database_query_result)"
      ],
      "metadata": {
        "colab": {
          "base_uri": "https://localhost:8080/"
        },
        "outputId": "ba165408-ba3f-486e-9050-afcc685338fd",
        "id": "UOHQFBTT2jwj"
      },
      "execution_count": null,
      "outputs": [
        {
          "output_type": "execute_result",
          "data": {
            "text/plain": [
              "{'events': [{'media': {'url': 'mock_image_url.com',\n",
              "    'caption': 'mock image caption',\n",
              "    'credit': 'mock image credit',\n",
              "    'alt': 'mock image alternative text'},\n",
              "   'start_date': {'year': '2023', 'month': '03', 'day': '15'},\n",
              "   'end_date': {'year': '2023', 'month': '03', 'day': '15'},\n",
              "   'group': 1}]}"
            ]
          },
          "metadata": {},
          "execution_count": 76
        }
      ]
    },
    {
      "cell_type": "markdown",
      "source": [
        "# PostgreSQL Result JSON Translation for MapBox GL JS"
      ],
      "metadata": {
        "id": "Sv8EMKM8riW4"
      }
    },
    {
      "cell_type": "code",
      "source": [
        "mock_map_events_database_query_result = [\n",
        "    (1, # ID from events table                                              0\n",
        "     'title', # from events table                                           1\n",
        "     41.2774353842556, # longitude from events table                        2\n",
        "     -70.098462995243, # latitude from events table                         3\n",
        "     'mock location name', # location_name from events table                4\n",
        "     'mock short description', # shorts_description from events table       5\n",
        "     ['mock', 'issue', 'types'], # issue_types from events table            6\n",
        "     'mock_thumbnail_link.com', # timeline_thumbnail_link from events table 7\n",
        "     ['mock_activist_id'], # activists_ids from events table                8\n",
        "     )]"
      ],
      "metadata": {
        "id": "Wo47vR_5oh55"
      },
      "execution_count": null,
      "outputs": []
    },
    {
      "cell_type": "code",
      "source": [
        "import json\n",
        "\n",
        "def translate_sql_data_to_geo_json(query_result_list):\n",
        "  final_mapbox_dict = {\"type\": \"FeatureCollection\"}\n",
        "  final_features_list = []\n",
        "  for row in query_result_list:\n",
        "    feature_dict = {\"type\": \"Feature\"}\n",
        "\n",
        "    properties_dict = {\n",
        "        \"id\": row[0],\n",
        "        \"title\": row[1],\n",
        "        \"description\": row[5],\n",
        "        \"issue_types\": row[6],\n",
        "        \"thumbnail\": row[7],\n",
        "        \"activists\": row[8],\n",
        "        \"location\": row[4]\n",
        "    }\n",
        "\n",
        "    feature_dict[\"properties\"] = properties_dict\n",
        "\n",
        "    geometry_dict = {\n",
        "        \"type\": \"Point\",\n",
        "        \"coordinates\": [row[3], row[2]]\n",
        "    }\n",
        "\n",
        "    feature_dict[\"geometry\"] = geometry_dict\n",
        "\n",
        "    final_features_list.append(feature_dict)\n",
        "\n",
        "  final_mapbox_dict[\"features\"] = final_features_list\n",
        "  final_mapbox_geojson_string = json.dumps(final_mapbox_dict)\n",
        "  final_mapbox_geojson = json.loads(final_mapbox_geojson_string)\n",
        "  return final_mapbox_geojson"
      ],
      "metadata": {
        "id": "XMBkXpHTg3ep"
      },
      "execution_count": null,
      "outputs": []
    },
    {
      "cell_type": "code",
      "source": [
        "translate_sql_data_to_geo_json(mock_map_events_database_query_result)"
      ],
      "metadata": {
        "colab": {
          "base_uri": "https://localhost:8080/"
        },
        "id": "XnDxikcWoam5",
        "outputId": "2d8c71e7-4de4-496f-a6d4-a49f92dd0d39"
      },
      "execution_count": null,
      "outputs": [
        {
          "output_type": "execute_result",
          "data": {
            "text/plain": [
              "{'type': 'FeatureCollection',\n",
              " 'features': [{'type': 'Feature',\n",
              "   'properties': {'id': 1,\n",
              "    'title': 'title',\n",
              "    'description': 'mock short description',\n",
              "    'issue_types': ['mock', 'issue', 'types'],\n",
              "    'thumbnail': 'mock_thumbnail_link.com',\n",
              "    'activists': ['mock_activist_id'],\n",
              "    'location': 'mock location name'},\n",
              "   'geometry': {'type': 'Point',\n",
              "    'coordinates': [-70.098462995243, 41.2774353842556]}}]}"
            ]
          },
          "metadata": {},
          "execution_count": 80
        }
      ]
    },
    {
      "cell_type": "markdown",
      "source": [
        "# Replace Data from Database\n",
        "These methods are untested currently. Once finalized, they will be integrated into JSON translation methods above.\n",
        "\n",
        "As it exists, the data from the sheets will completely replace the database data, in order to add, update, or delete any data."
      ],
      "metadata": {
        "id": "CfAk2BjusCa_"
      }
    },
    {
      "cell_type": "code",
      "source": [
        "import pandas\n",
        "import psycopg2"
      ],
      "metadata": {
        "id": "GD88498msv6K"
      },
      "execution_count": null,
      "outputs": []
    },
    {
      "cell_type": "code",
      "source": [
        "def database_table_to_dataframe(table, connection):\n",
        "  database_df = pandas.read_sql_table(table, connection)\n",
        "  return database_df"
      ],
      "metadata": {
        "id": "46QNb5YjsCa_"
      },
      "execution_count": null,
      "outputs": []
    },
    {
      "cell_type": "markdown",
      "source": [
        "## Read Google Sheets Data"
      ],
      "metadata": {
        "id": "Y3o8kYHUvpyQ"
      }
    },
    {
      "cell_type": "code",
      "source": [
        "from google.colab import auth\n",
        "import gspread\n",
        "from google.auth import default"
      ],
      "metadata": {
        "id": "iyVfl-AevpJ2"
      },
      "execution_count": null,
      "outputs": []
    },
    {
      "cell_type": "code",
      "source": [
        "def google_sheets_table_to_dataframe(sheet_name):\n",
        "  # authenticating to google\n",
        "  auth.authenticate_user()\n",
        "  creds, _ = default()\n",
        "  gc = gspread.authorize(creds)\n",
        "\n",
        "  # defining worksheet\n",
        "  spreadsheet = gc.open('MTS DATA')\n",
        "  if sheet_name == 'activists':\n",
        "    worksheet = spreadsheet.worksheet(\"ACTIVISTS\")\n",
        "  elif sheet_name == 'events':\n",
        "    worksheet = spreadsheet.worksheet(\"EVENTS\")\n",
        "  elif sheet_name == 'images':\n",
        "    worksheet = spreadsheet.worksheet(\"IMAGES\")\n",
        "  else:\n",
        "    raise ValueError\n",
        "\n",
        "  # get_all_values gives a list of rows\n",
        "  rows = worksheet.get_all_values()\n",
        "\n",
        "  # convert to a DataFrame \n",
        "  sheet_df = pandas.DataFrame(rows)\n",
        "\n",
        "  # creating columns name\n",
        "  sheet_df.columns = sheet_df.iloc[0]\n",
        "  sheet_df = sheet_df.iloc[1:]\n",
        "  sheet_df = sheet_df.drop(index=[1, 2]).reset_index(drop=True)\n",
        "  return sheet_df"
      ],
      "metadata": {
        "id": "DN7on2f0wI0S"
      },
      "execution_count": null,
      "outputs": []
    },
    {
      "cell_type": "code",
      "source": [
        "google_sheets_table_to_dataframe(\"activists\")"
      ],
      "metadata": {
        "id": "WjwF1WB4w71v",
        "colab": {
          "base_uri": "https://localhost:8080/",
          "height": 472
        },
        "outputId": "365183ed-6f1b-4d03-e2c6-0525f97f96fd"
      },
      "execution_count": null,
      "outputs": [
        {
          "output_type": "execute_result",
          "data": {
            "text/plain": [
              "0      ID                     NAME EVENT IDs  \\\n",
              "0    ACT1           Absalom Boston      EVT1   \n",
              "1    ACT2             William Apes      EVT6   \n",
              "2    ACT3         Solomon Attaquin      EVT5   \n",
              "3    ACT4  Mary J. \"Polly\" Johnson             \n",
              "4    ACT5   Cynthia Conet Attaquin      EVT5   \n",
              "5    ACT6                    Zelda             \n",
              "\n",
              "0                                         IMAGE LINK TRIBAL AFFILIATION  \\\n",
              "0  https://drive.google.com/file/d/1mVNyr11i-qXMl...          Nantucket   \n",
              "1                                                                         \n",
              "2                                                                         \n",
              "3                                                                         \n",
              "4                                                                         \n",
              "5                                                                         \n",
              "\n",
              "0 DATE OF BIRTH LONGITUDE OF BIRTH LATITUDE OF BIRTH DATE OF DEATH  \\\n",
              "0   1785-00-00         41.27743538        -70.098463   1855-00-00    \n",
              "1                                                                    \n",
              "2                                                                    \n",
              "3                                                                    \n",
              "4                                                                    \n",
              "5                                                                    \n",
              "\n",
              "0                                          SHORT BIO  \\\n",
              "0  Prominent Nantucket whaling captain and busine...   \n",
              "1                                                      \n",
              "2                                                      \n",
              "3                                                      \n",
              "4                                                      \n",
              "5                                                      \n",
              "\n",
              "0                                           LONG BIO  \\\n",
              "0  Absalom Boston, the son of Seneca Boston, a fr...   \n",
              "1                                                      \n",
              "2                                                      \n",
              "3                                                      \n",
              "4                                                      \n",
              "5                                                      \n",
              "\n",
              "0                                           CITATION  \n",
              "0  White, Barbara Ann. “Black Activism Before the...  \n",
              "1                                                     \n",
              "2                                                     \n",
              "3                                                     \n",
              "4                                                     \n",
              "5                                                     "
            ],
            "text/html": [
              "\n",
              "  <div id=\"df-a1a84715-a7cd-4051-b078-97cd23847cc3\">\n",
              "    <div class=\"colab-df-container\">\n",
              "      <div>\n",
              "<style scoped>\n",
              "    .dataframe tbody tr th:only-of-type {\n",
              "        vertical-align: middle;\n",
              "    }\n",
              "\n",
              "    .dataframe tbody tr th {\n",
              "        vertical-align: top;\n",
              "    }\n",
              "\n",
              "    .dataframe thead th {\n",
              "        text-align: right;\n",
              "    }\n",
              "</style>\n",
              "<table border=\"1\" class=\"dataframe\">\n",
              "  <thead>\n",
              "    <tr style=\"text-align: right;\">\n",
              "      <th></th>\n",
              "      <th></th>\n",
              "      <th>ID</th>\n",
              "      <th>NAME</th>\n",
              "      <th>EVENT IDs</th>\n",
              "      <th>IMAGE LINK</th>\n",
              "      <th>TRIBAL AFFILIATION</th>\n",
              "      <th>DATE OF BIRTH</th>\n",
              "      <th>LONGITUDE OF BIRTH</th>\n",
              "      <th>LATITUDE OF BIRTH</th>\n",
              "      <th>DATE OF DEATH</th>\n",
              "      <th>SHORT BIO</th>\n",
              "      <th>LONG BIO</th>\n",
              "      <th>CITATION</th>\n",
              "    </tr>\n",
              "  </thead>\n",
              "  <tbody>\n",
              "    <tr>\n",
              "      <th>0</th>\n",
              "      <td></td>\n",
              "      <td>ACT1</td>\n",
              "      <td>Absalom Boston</td>\n",
              "      <td>EVT1</td>\n",
              "      <td>https://drive.google.com/file/d/1mVNyr11i-qXMl...</td>\n",
              "      <td>Nantucket</td>\n",
              "      <td>1785-00-00</td>\n",
              "      <td>41.27743538</td>\n",
              "      <td>-70.098463</td>\n",
              "      <td>1855-00-00</td>\n",
              "      <td>Prominent Nantucket whaling captain and busine...</td>\n",
              "      <td>Absalom Boston, the son of Seneca Boston, a fr...</td>\n",
              "      <td>White, Barbara Ann. “Black Activism Before the...</td>\n",
              "    </tr>\n",
              "    <tr>\n",
              "      <th>1</th>\n",
              "      <td></td>\n",
              "      <td>ACT2</td>\n",
              "      <td>William Apes</td>\n",
              "      <td>EVT6</td>\n",
              "      <td></td>\n",
              "      <td></td>\n",
              "      <td></td>\n",
              "      <td></td>\n",
              "      <td></td>\n",
              "      <td></td>\n",
              "      <td></td>\n",
              "      <td></td>\n",
              "      <td></td>\n",
              "    </tr>\n",
              "    <tr>\n",
              "      <th>2</th>\n",
              "      <td></td>\n",
              "      <td>ACT3</td>\n",
              "      <td>Solomon Attaquin</td>\n",
              "      <td>EVT5</td>\n",
              "      <td></td>\n",
              "      <td></td>\n",
              "      <td></td>\n",
              "      <td></td>\n",
              "      <td></td>\n",
              "      <td></td>\n",
              "      <td></td>\n",
              "      <td></td>\n",
              "      <td></td>\n",
              "    </tr>\n",
              "    <tr>\n",
              "      <th>3</th>\n",
              "      <td></td>\n",
              "      <td>ACT4</td>\n",
              "      <td>Mary J. \"Polly\" Johnson</td>\n",
              "      <td></td>\n",
              "      <td></td>\n",
              "      <td></td>\n",
              "      <td></td>\n",
              "      <td></td>\n",
              "      <td></td>\n",
              "      <td></td>\n",
              "      <td></td>\n",
              "      <td></td>\n",
              "      <td></td>\n",
              "    </tr>\n",
              "    <tr>\n",
              "      <th>4</th>\n",
              "      <td></td>\n",
              "      <td>ACT5</td>\n",
              "      <td>Cynthia Conet Attaquin</td>\n",
              "      <td>EVT5</td>\n",
              "      <td></td>\n",
              "      <td></td>\n",
              "      <td></td>\n",
              "      <td></td>\n",
              "      <td></td>\n",
              "      <td></td>\n",
              "      <td></td>\n",
              "      <td></td>\n",
              "      <td></td>\n",
              "    </tr>\n",
              "    <tr>\n",
              "      <th>5</th>\n",
              "      <td></td>\n",
              "      <td>ACT6</td>\n",
              "      <td>Zelda</td>\n",
              "      <td></td>\n",
              "      <td></td>\n",
              "      <td></td>\n",
              "      <td></td>\n",
              "      <td></td>\n",
              "      <td></td>\n",
              "      <td></td>\n",
              "      <td></td>\n",
              "      <td></td>\n",
              "      <td></td>\n",
              "    </tr>\n",
              "  </tbody>\n",
              "</table>\n",
              "</div>\n",
              "      <button class=\"colab-df-convert\" onclick=\"convertToInteractive('df-a1a84715-a7cd-4051-b078-97cd23847cc3')\"\n",
              "              title=\"Convert this dataframe to an interactive table.\"\n",
              "              style=\"display:none;\">\n",
              "        \n",
              "  <svg xmlns=\"http://www.w3.org/2000/svg\" height=\"24px\"viewBox=\"0 0 24 24\"\n",
              "       width=\"24px\">\n",
              "    <path d=\"M0 0h24v24H0V0z\" fill=\"none\"/>\n",
              "    <path d=\"M18.56 5.44l.94 2.06.94-2.06 2.06-.94-2.06-.94-.94-2.06-.94 2.06-2.06.94zm-11 1L8.5 8.5l.94-2.06 2.06-.94-2.06-.94L8.5 2.5l-.94 2.06-2.06.94zm10 10l.94 2.06.94-2.06 2.06-.94-2.06-.94-.94-2.06-.94 2.06-2.06.94z\"/><path d=\"M17.41 7.96l-1.37-1.37c-.4-.4-.92-.59-1.43-.59-.52 0-1.04.2-1.43.59L10.3 9.45l-7.72 7.72c-.78.78-.78 2.05 0 2.83L4 21.41c.39.39.9.59 1.41.59.51 0 1.02-.2 1.41-.59l7.78-7.78 2.81-2.81c.8-.78.8-2.07 0-2.86zM5.41 20L4 18.59l7.72-7.72 1.47 1.35L5.41 20z\"/>\n",
              "  </svg>\n",
              "      </button>\n",
              "      \n",
              "  <style>\n",
              "    .colab-df-container {\n",
              "      display:flex;\n",
              "      flex-wrap:wrap;\n",
              "      gap: 12px;\n",
              "    }\n",
              "\n",
              "    .colab-df-convert {\n",
              "      background-color: #E8F0FE;\n",
              "      border: none;\n",
              "      border-radius: 50%;\n",
              "      cursor: pointer;\n",
              "      display: none;\n",
              "      fill: #1967D2;\n",
              "      height: 32px;\n",
              "      padding: 0 0 0 0;\n",
              "      width: 32px;\n",
              "    }\n",
              "\n",
              "    .colab-df-convert:hover {\n",
              "      background-color: #E2EBFA;\n",
              "      box-shadow: 0px 1px 2px rgba(60, 64, 67, 0.3), 0px 1px 3px 1px rgba(60, 64, 67, 0.15);\n",
              "      fill: #174EA6;\n",
              "    }\n",
              "\n",
              "    [theme=dark] .colab-df-convert {\n",
              "      background-color: #3B4455;\n",
              "      fill: #D2E3FC;\n",
              "    }\n",
              "\n",
              "    [theme=dark] .colab-df-convert:hover {\n",
              "      background-color: #434B5C;\n",
              "      box-shadow: 0px 1px 3px 1px rgba(0, 0, 0, 0.15);\n",
              "      filter: drop-shadow(0px 1px 2px rgba(0, 0, 0, 0.3));\n",
              "      fill: #FFFFFF;\n",
              "    }\n",
              "  </style>\n",
              "\n",
              "      <script>\n",
              "        const buttonEl =\n",
              "          document.querySelector('#df-a1a84715-a7cd-4051-b078-97cd23847cc3 button.colab-df-convert');\n",
              "        buttonEl.style.display =\n",
              "          google.colab.kernel.accessAllowed ? 'block' : 'none';\n",
              "\n",
              "        async function convertToInteractive(key) {\n",
              "          const element = document.querySelector('#df-a1a84715-a7cd-4051-b078-97cd23847cc3');\n",
              "          const dataTable =\n",
              "            await google.colab.kernel.invokeFunction('convertToInteractive',\n",
              "                                                     [key], {});\n",
              "          if (!dataTable) return;\n",
              "\n",
              "          const docLinkHtml = 'Like what you see? Visit the ' +\n",
              "            '<a target=\"_blank\" href=https://colab.research.google.com/notebooks/data_table.ipynb>data table notebook</a>'\n",
              "            + ' to learn more about interactive tables.';\n",
              "          element.innerHTML = '';\n",
              "          dataTable['output_type'] = 'display_data';\n",
              "          await google.colab.output.renderOutput(dataTable, element);\n",
              "          const docLink = document.createElement('div');\n",
              "          docLink.innerHTML = docLinkHtml;\n",
              "          element.appendChild(docLink);\n",
              "        }\n",
              "      </script>\n",
              "    </div>\n",
              "  </div>\n",
              "  "
            ]
          },
          "metadata": {},
          "execution_count": 85
        }
      ]
    },
    {
      "cell_type": "code",
      "source": [
        "def write_dataframe_to_databse(sheets_df, table, connection):\n",
        "  sheets_df.to_sql(table, connection, if_exists='replace')"
      ],
      "metadata": {
        "id": "Gtm9LVrm0bJ_"
      },
      "execution_count": null,
      "outputs": []
    },
    {
      "cell_type": "markdown",
      "source": [
        "# Playground"
      ],
      "metadata": {
        "id": "_5QI7tCv3PMd"
      }
    },
    {
      "cell_type": "markdown",
      "source": [
        "# PostgreSQL Result JSON Translation for TimelineJS"
      ],
      "metadata": {
        "id": "jSXcq0hC3TKJ"
      }
    },
    {
      "cell_type": "code",
      "source": [
        "import datetime"
      ],
      "metadata": {
        "id": "dbjZz6M83TKJ"
      },
      "execution_count": null,
      "outputs": []
    },
    {
      "cell_type": "code",
      "source": [
        "mock_timeline_events_database_query_result = [\n",
        "    (1, # ID from events table                                              0\n",
        "     'title', # from events table                                           1\n",
        "     datetime.datetime(2023, 3, 15), # start_date from events table         2\n",
        "     'day', # start_date_accuracy from events table                         3\n",
        "     datetime.datetime(2023, 3, 15), # from events table                    4\n",
        "     'day', # end_date_accuracy from events table                           5\n",
        "     'mock location name', # location_name from events table                6\n",
        "     'mock short description', # shorts_description from events table       7\n",
        "     ['mock', 'issue', 'types'], # issue_types from events table            8\n",
        "     'mock_image_url.com', # url from images table                          9\n",
        "     'mock image caption', # caption from images table                      10\n",
        "     'mock image credit', # credit from images table                        11\n",
        "     'mock image alternative text', # alt_text from images table            12\n",
        "     'mock_thumbnail_link.com' # timeline_thumbnail_link from events table  13\n",
        "     )]"
      ],
      "metadata": {
        "id": "bknhARbP3TKJ"
      },
      "execution_count": null,
      "outputs": []
    },
    {
      "cell_type": "code",
      "source": [
        "import json\n",
        "\n",
        "def translate_sql_data_to_timeline_json(query_result_list):\n",
        "  final_timeline_dict = {}\n",
        "  final_events_list = []\n",
        "  for row in query_result_list:\n",
        "    event_dict = {}\n",
        "\n",
        "    media_dict = {\n",
        "        \"url\": row[9],\n",
        "        \"caption\": row[10],\n",
        "        \"credit\": row[11],\n",
        "        \"alt\": row[12]\n",
        "    }\n",
        "\n",
        "    event_dict[\"media\"] = media_dict\n",
        "\n",
        "    start_date_accuracy = row[3]\n",
        "    end_date_accuracy = row[5]\n",
        "\n",
        "    start_date_year = row[2].strftime(\"%Y\")\n",
        "    end_date_year = row[4].strftime(\"%Y\")\n",
        "\n",
        "    # Determine correct start date format for JSON based on accuracy\n",
        "    if start_date_accuracy == 'day':\n",
        "      start_date_month = row[2].strftime(\"%m\")\n",
        "      start_date_day = row[2].strftime(\"%d\")\n",
        "      start_date_dict = {\n",
        "          \"year\": start_date_year,\n",
        "          \"month\": start_date_month,\n",
        "          \"day\": start_date_day,\n",
        "          }\n",
        "    elif start_date_accuracy == 'month':\n",
        "      start_date_month = row[2].strftime(\"%m\")\n",
        "      start_date_dict = {\n",
        "          \"year\": start_date_year,\n",
        "          \"month\": start_date_month,\n",
        "          }\n",
        "    else:\n",
        "      start_date_dict = {\n",
        "          \"year\": start_date_year,\n",
        "          }\n",
        "\n",
        "    event_dict[\"start_date\"] = start_date_dict\n",
        "\n",
        "    # Determine correct end date format for JSON based on accuracy\n",
        "    if end_date_accuracy == 'day':\n",
        "      end_date_month = row[4].strftime(\"%m\")\n",
        "      end_date_day = row[4].strftime(\"%d\")\n",
        "      end_date_dict = {\n",
        "          \"year\": end_date_year,\n",
        "          \"month\": end_date_month,\n",
        "          \"day\": end_date_day,\n",
        "          }\n",
        "    elif end_date_accuracy == 'month':\n",
        "      end_date_month = row[4].strftime(\"%m\")\n",
        "      end_date_dict = {\n",
        "          \"year\": end_date_year,\n",
        "          \"month\": end_date_month,\n",
        "          }\n",
        "    else:\n",
        "      end_date_dict = {\n",
        "          \"year\": end_date_year,\n",
        "          }\n",
        "\n",
        "    event_dict[\"end_date\"] = end_date_dict\n",
        "\n",
        "    text_dict = {\n",
        "        \"headline\": row[1],\n",
        "        \"text\": row[7],\n",
        "    }\n",
        "\n",
        "    event_dict[\"group\"] = 1\n",
        "\n",
        "    final_events_list.append(event_dict)\n",
        "\n",
        "  final_timeline_dict[\"events\"] = final_events_list\n",
        "  final_timeline_json_string = json.dumps(final_timeline_dict)\n",
        "  final_timeline_json = json.loads(final_timeline_json_string)\n",
        "  return final_timeline_json"
      ],
      "metadata": {
        "id": "pb3o52T03TKK"
      },
      "execution_count": null,
      "outputs": []
    },
    {
      "cell_type": "code",
      "source": [
        "translate_sql_data_to_timeline_json(mock_timeline_events_database_query_result)"
      ],
      "metadata": {
        "colab": {
          "base_uri": "https://localhost:8080/"
        },
        "outputId": "ba165408-ba3f-486e-9050-afcc685338fd",
        "id": "XhtAZTBE3TKK"
      },
      "execution_count": null,
      "outputs": [
        {
          "output_type": "execute_result",
          "data": {
            "text/plain": [
              "{'events': [{'media': {'url': 'mock_image_url.com',\n",
              "    'caption': 'mock image caption',\n",
              "    'credit': 'mock image credit',\n",
              "    'alt': 'mock image alternative text'},\n",
              "   'start_date': {'year': '2023', 'month': '03', 'day': '15'},\n",
              "   'end_date': {'year': '2023', 'month': '03', 'day': '15'},\n",
              "   'group': 1}]}"
            ]
          },
          "metadata": {},
          "execution_count": 76
        }
      ]
    }
  ]
}